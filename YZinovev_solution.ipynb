{
 "cells": [
  {
   "cell_type": "code",
   "execution_count": 1,
   "metadata": {},
   "outputs": [],
   "source": [
    "import numpy as np\n",
    "import pandas as pd\n",
    "import matplotlib.pyplot as plt\n",
    "import pickle\n",
    "\n",
    "from sklearn.model_selection import train_test_split, GridSearchCV\n",
    "from sklearn.model_selection import KFold, GridSearchCV, RandomizedSearchCV\n",
    "from sklearn.preprocessing import StandardScaler, MinMaxScaler\n",
    "from sklearn.metrics import classification_report, f1_score, precision_score, recall_score\n",
    "\n",
    "from sklearn.linear_model import LogisticRegression\n",
    "from sklearn.neighbors import KNeighborsClassifier\n",
    "import xgboost as xgb, lightgbm as lgbm, catboost as catb\n",
    "\n",
    "%matplotlib inline"
   ]
  },
  {
   "cell_type": "markdown",
   "metadata": {},
   "source": [
    "### Загрузка, обзор данных"
   ]
  },
  {
   "cell_type": "code",
   "execution_count": 2,
   "metadata": {},
   "outputs": [],
   "source": [
    "data_train = pd.read_csv('./data/train.csv')\n",
    "data_test = pd.read_csv('./data/test.csv')"
   ]
  },
  {
   "cell_type": "code",
   "execution_count": 3,
   "metadata": {},
   "outputs": [],
   "source": [
    "def save_prepared_data(df, name):\n",
    "    df.to_csv(f'./data/prepared_{name}.csv', index=False)"
   ]
  },
  {
   "cell_type": "code",
   "execution_count": 4,
   "metadata": {
    "scrolled": false
   },
   "outputs": [
    {
     "name": "stdout",
     "output_type": "stream",
     "text": [
      "<class 'pandas.core.frame.DataFrame'>\n",
      "RangeIndex: 7500 entries, 0 to 7499\n",
      "Data columns (total 17 columns):\n",
      "Home Ownership                  7500 non-null object\n",
      "Annual Income                   5943 non-null float64\n",
      "Years in current job            7129 non-null object\n",
      "Tax Liens                       7500 non-null float64\n",
      "Number of Open Accounts         7500 non-null float64\n",
      "Years of Credit History         7500 non-null float64\n",
      "Maximum Open Credit             7500 non-null float64\n",
      "Number of Credit Problems       7500 non-null float64\n",
      "Months since last delinquent    3419 non-null float64\n",
      "Bankruptcies                    7486 non-null float64\n",
      "Purpose                         7500 non-null object\n",
      "Term                            7500 non-null object\n",
      "Current Loan Amount             7500 non-null float64\n",
      "Current Credit Balance          7500 non-null float64\n",
      "Monthly Debt                    7500 non-null float64\n",
      "Credit Score                    5943 non-null float64\n",
      "Credit Default                  7500 non-null int64\n",
      "dtypes: float64(12), int64(1), object(4)\n",
      "memory usage: 996.2+ KB\n"
     ]
    }
   ],
   "source": [
    "data_train.info()"
   ]
  },
  {
   "cell_type": "markdown",
   "metadata": {},
   "source": [
    "**Глобальные переменные**"
   ]
  },
  {
   "cell_type": "code",
   "execution_count": 5,
   "metadata": {},
   "outputs": [],
   "source": [
    "home_own = 'Home Ownership' # домовладение\n",
    "ann_income = 'Annual Income' # годовой доход\n",
    "years_on_job = 'Years in current job' # количество лет на текущем месте работы\n",
    "tax_liens = 'Tax Liens' # налоговые льготы\n",
    "numb_accounts = 'Number of Open Accounts' # количество открытых счетов\n",
    "years_cred_hist = 'Years of Credit History' # количество лет кредитной истории\n",
    "max_credit = 'Maximum Open Credit' # наибольший открытый кредит\n",
    "cred_problems = 'Number of Credit Problems' # количество проблем с кредитом\n",
    "months_last_delinq = 'Months since last delinquent' # количество месяцев с последней просрочки платежа\n",
    "bancrupcies = 'Bankruptcies' # банкротства\n",
    "purpose = 'Purpose' # цель кредита\n",
    "term = 'Term' # срок кредита\n",
    "cur_loan_amount = 'Current Loan Amount' # текущая сумма кредита\n",
    "cur_cred_bal = 'Current Credit Balance' # текущий кредитный баланс\n",
    "month_debt = 'Monthly Debt' # ежемесячный долг\n",
    "cred_score = 'Credit Score' # ???\n",
    "cred_default = 'Credit Default' # факт невыполнения кредитных обязательств (0 - погашен вовремя, 1 - просрочка)"
   ]
  },
  {
   "cell_type": "markdown",
   "metadata": {},
   "source": [
    "**Обзор номинативных признаков**"
   ]
  },
  {
   "cell_type": "code",
   "execution_count": 6,
   "metadata": {
    "scrolled": false
   },
   "outputs": [
    {
     "name": "stdout",
     "output_type": "stream",
     "text": [
      "\n",
      "Home Ownership:\n",
      "\n",
      "Home Mortgage    3637\n",
      "Rent             3204\n",
      "Own Home          647\n",
      "Have Mortgage      12\n",
      "Name: Home Ownership, dtype: int64\n",
      "\n",
      "******************************\n",
      "\n",
      "Years in current job:\n",
      "\n",
      "10+ years    2332\n",
      "2 years       705\n",
      "3 years       620\n",
      "< 1 year      563\n",
      "5 years       516\n",
      "1 year        504\n",
      "4 years       469\n",
      "6 years       426\n",
      "7 years       396\n",
      "8 years       339\n",
      "9 years       259\n",
      "Name: Years in current job, dtype: int64\n",
      "\n",
      "******************************\n",
      "\n",
      "Purpose:\n",
      "\n",
      "debt consolidation      5944\n",
      "other                    665\n",
      "home improvements        412\n",
      "business loan            129\n",
      "buy a car                 96\n",
      "medical bills             71\n",
      "major purchase            40\n",
      "take a trip               37\n",
      "buy house                 34\n",
      "small business            26\n",
      "wedding                   15\n",
      "moving                    11\n",
      "educational expenses      10\n",
      "vacation                   8\n",
      "renewable energy           2\n",
      "Name: Purpose, dtype: int64\n",
      "\n",
      "******************************\n",
      "\n",
      "Term:\n",
      "\n",
      "Short Term    5556\n",
      "Long Term     1944\n",
      "Name: Term, dtype: int64\n",
      "\n",
      "******************************\n"
     ]
    }
   ],
   "source": [
    "def print_nominative(df):\n",
    "    for cat_colname in df.select_dtypes(include='object').columns:\n",
    "        print(f\"\\n{cat_colname}:\\n\\n{df[cat_colname].value_counts()}\\n\\n{'*'*30}\")\n",
    "\n",
    "print_nominative(data_train)"
   ]
  },
  {
   "cell_type": "markdown",
   "metadata": {},
   "source": [
    "**Обзор численных признаков**"
   ]
  },
  {
   "cell_type": "code",
   "execution_count": 7,
   "metadata": {},
   "outputs": [
    {
     "data": {
      "text/html": [
       "<div>\n",
       "<style scoped>\n",
       "    .dataframe tbody tr th:only-of-type {\n",
       "        vertical-align: middle;\n",
       "    }\n",
       "\n",
       "    .dataframe tbody tr th {\n",
       "        vertical-align: top;\n",
       "    }\n",
       "\n",
       "    .dataframe thead th {\n",
       "        text-align: right;\n",
       "    }\n",
       "</style>\n",
       "<table border=\"1\" class=\"dataframe\">\n",
       "  <thead>\n",
       "    <tr style=\"text-align: right;\">\n",
       "      <th></th>\n",
       "      <th>Annual Income</th>\n",
       "      <th>Tax Liens</th>\n",
       "      <th>Number of Open Accounts</th>\n",
       "      <th>Years of Credit History</th>\n",
       "      <th>Maximum Open Credit</th>\n",
       "      <th>Number of Credit Problems</th>\n",
       "      <th>Months since last delinquent</th>\n",
       "      <th>Bankruptcies</th>\n",
       "      <th>Current Loan Amount</th>\n",
       "      <th>Current Credit Balance</th>\n",
       "      <th>Monthly Debt</th>\n",
       "      <th>Credit Score</th>\n",
       "      <th>Credit Default</th>\n",
       "    </tr>\n",
       "  </thead>\n",
       "  <tbody>\n",
       "    <tr>\n",
       "      <td>count</td>\n",
       "      <td>5.943000e+03</td>\n",
       "      <td>7500.000000</td>\n",
       "      <td>7500.000000</td>\n",
       "      <td>7500.000000</td>\n",
       "      <td>7.500000e+03</td>\n",
       "      <td>7500.000000</td>\n",
       "      <td>3419.000000</td>\n",
       "      <td>7486.000000</td>\n",
       "      <td>7.500000e+03</td>\n",
       "      <td>7.500000e+03</td>\n",
       "      <td>7500.000000</td>\n",
       "      <td>5943.000000</td>\n",
       "      <td>7500.000000</td>\n",
       "    </tr>\n",
       "    <tr>\n",
       "      <td>mean</td>\n",
       "      <td>1.366392e+06</td>\n",
       "      <td>0.030133</td>\n",
       "      <td>11.130933</td>\n",
       "      <td>18.317467</td>\n",
       "      <td>9.451537e+05</td>\n",
       "      <td>0.170000</td>\n",
       "      <td>34.692600</td>\n",
       "      <td>0.117152</td>\n",
       "      <td>1.187318e+07</td>\n",
       "      <td>2.898332e+05</td>\n",
       "      <td>18314.454133</td>\n",
       "      <td>1151.087498</td>\n",
       "      <td>0.281733</td>\n",
       "    </tr>\n",
       "    <tr>\n",
       "      <td>std</td>\n",
       "      <td>8.453392e+05</td>\n",
       "      <td>0.271604</td>\n",
       "      <td>4.908924</td>\n",
       "      <td>7.041946</td>\n",
       "      <td>1.602622e+07</td>\n",
       "      <td>0.498598</td>\n",
       "      <td>21.688806</td>\n",
       "      <td>0.347192</td>\n",
       "      <td>3.192612e+07</td>\n",
       "      <td>3.178714e+05</td>\n",
       "      <td>11926.764673</td>\n",
       "      <td>1604.451418</td>\n",
       "      <td>0.449874</td>\n",
       "    </tr>\n",
       "    <tr>\n",
       "      <td>min</td>\n",
       "      <td>1.645970e+05</td>\n",
       "      <td>0.000000</td>\n",
       "      <td>2.000000</td>\n",
       "      <td>4.000000</td>\n",
       "      <td>0.000000e+00</td>\n",
       "      <td>0.000000</td>\n",
       "      <td>0.000000</td>\n",
       "      <td>0.000000</td>\n",
       "      <td>1.124200e+04</td>\n",
       "      <td>0.000000e+00</td>\n",
       "      <td>0.000000</td>\n",
       "      <td>585.000000</td>\n",
       "      <td>0.000000</td>\n",
       "    </tr>\n",
       "    <tr>\n",
       "      <td>25%</td>\n",
       "      <td>8.443410e+05</td>\n",
       "      <td>0.000000</td>\n",
       "      <td>8.000000</td>\n",
       "      <td>13.500000</td>\n",
       "      <td>2.792295e+05</td>\n",
       "      <td>0.000000</td>\n",
       "      <td>16.000000</td>\n",
       "      <td>0.000000</td>\n",
       "      <td>1.801690e+05</td>\n",
       "      <td>1.142565e+05</td>\n",
       "      <td>10067.500000</td>\n",
       "      <td>711.000000</td>\n",
       "      <td>0.000000</td>\n",
       "    </tr>\n",
       "    <tr>\n",
       "      <td>50%</td>\n",
       "      <td>1.168386e+06</td>\n",
       "      <td>0.000000</td>\n",
       "      <td>10.000000</td>\n",
       "      <td>17.000000</td>\n",
       "      <td>4.781590e+05</td>\n",
       "      <td>0.000000</td>\n",
       "      <td>32.000000</td>\n",
       "      <td>0.000000</td>\n",
       "      <td>3.095730e+05</td>\n",
       "      <td>2.093230e+05</td>\n",
       "      <td>16076.500000</td>\n",
       "      <td>731.000000</td>\n",
       "      <td>0.000000</td>\n",
       "    </tr>\n",
       "    <tr>\n",
       "      <td>75%</td>\n",
       "      <td>1.640137e+06</td>\n",
       "      <td>0.000000</td>\n",
       "      <td>14.000000</td>\n",
       "      <td>21.800000</td>\n",
       "      <td>7.935015e+05</td>\n",
       "      <td>0.000000</td>\n",
       "      <td>50.000000</td>\n",
       "      <td>0.000000</td>\n",
       "      <td>5.198820e+05</td>\n",
       "      <td>3.604062e+05</td>\n",
       "      <td>23818.000000</td>\n",
       "      <td>743.000000</td>\n",
       "      <td>1.000000</td>\n",
       "    </tr>\n",
       "    <tr>\n",
       "      <td>max</td>\n",
       "      <td>1.014934e+07</td>\n",
       "      <td>7.000000</td>\n",
       "      <td>43.000000</td>\n",
       "      <td>57.700000</td>\n",
       "      <td>1.304726e+09</td>\n",
       "      <td>7.000000</td>\n",
       "      <td>118.000000</td>\n",
       "      <td>4.000000</td>\n",
       "      <td>1.000000e+08</td>\n",
       "      <td>6.506797e+06</td>\n",
       "      <td>136679.000000</td>\n",
       "      <td>7510.000000</td>\n",
       "      <td>1.000000</td>\n",
       "    </tr>\n",
       "  </tbody>\n",
       "</table>\n",
       "</div>"
      ],
      "text/plain": [
       "       Annual Income    Tax Liens  Number of Open Accounts  \\\n",
       "count   5.943000e+03  7500.000000              7500.000000   \n",
       "mean    1.366392e+06     0.030133                11.130933   \n",
       "std     8.453392e+05     0.271604                 4.908924   \n",
       "min     1.645970e+05     0.000000                 2.000000   \n",
       "25%     8.443410e+05     0.000000                 8.000000   \n",
       "50%     1.168386e+06     0.000000                10.000000   \n",
       "75%     1.640137e+06     0.000000                14.000000   \n",
       "max     1.014934e+07     7.000000                43.000000   \n",
       "\n",
       "       Years of Credit History  Maximum Open Credit  \\\n",
       "count              7500.000000         7.500000e+03   \n",
       "mean                 18.317467         9.451537e+05   \n",
       "std                   7.041946         1.602622e+07   \n",
       "min                   4.000000         0.000000e+00   \n",
       "25%                  13.500000         2.792295e+05   \n",
       "50%                  17.000000         4.781590e+05   \n",
       "75%                  21.800000         7.935015e+05   \n",
       "max                  57.700000         1.304726e+09   \n",
       "\n",
       "       Number of Credit Problems  Months since last delinquent  Bankruptcies  \\\n",
       "count                7500.000000                   3419.000000   7486.000000   \n",
       "mean                    0.170000                     34.692600      0.117152   \n",
       "std                     0.498598                     21.688806      0.347192   \n",
       "min                     0.000000                      0.000000      0.000000   \n",
       "25%                     0.000000                     16.000000      0.000000   \n",
       "50%                     0.000000                     32.000000      0.000000   \n",
       "75%                     0.000000                     50.000000      0.000000   \n",
       "max                     7.000000                    118.000000      4.000000   \n",
       "\n",
       "       Current Loan Amount  Current Credit Balance   Monthly Debt  \\\n",
       "count         7.500000e+03            7.500000e+03    7500.000000   \n",
       "mean          1.187318e+07            2.898332e+05   18314.454133   \n",
       "std           3.192612e+07            3.178714e+05   11926.764673   \n",
       "min           1.124200e+04            0.000000e+00       0.000000   \n",
       "25%           1.801690e+05            1.142565e+05   10067.500000   \n",
       "50%           3.095730e+05            2.093230e+05   16076.500000   \n",
       "75%           5.198820e+05            3.604062e+05   23818.000000   \n",
       "max           1.000000e+08            6.506797e+06  136679.000000   \n",
       "\n",
       "       Credit Score  Credit Default  \n",
       "count   5943.000000     7500.000000  \n",
       "mean    1151.087498        0.281733  \n",
       "std     1604.451418        0.449874  \n",
       "min      585.000000        0.000000  \n",
       "25%      711.000000        0.000000  \n",
       "50%      731.000000        0.000000  \n",
       "75%      743.000000        1.000000  \n",
       "max     7510.000000        1.000000  "
      ]
     },
     "execution_count": 7,
     "metadata": {},
     "output_type": "execute_result"
    }
   ],
   "source": [
    "data_train.describe()"
   ]
  },
  {
   "cell_type": "markdown",
   "metadata": {},
   "source": [
    "### Подготовка данных"
   ]
  },
  {
   "cell_type": "markdown",
   "metadata": {},
   "source": [
    "**Обработка пропусков**"
   ]
  },
  {
   "cell_type": "code",
   "execution_count": 8,
   "metadata": {},
   "outputs": [
    {
     "name": "stdout",
     "output_type": "stream",
     "text": [
      "Home Ownership                     0\n",
      "Annual Income                   1557\n",
      "Years in current job             371\n",
      "Tax Liens                          0\n",
      "Number of Open Accounts            0\n",
      "Years of Credit History            0\n",
      "Maximum Open Credit                0\n",
      "Number of Credit Problems          0\n",
      "Months since last delinquent    4081\n",
      "Bankruptcies                      14\n",
      "Purpose                            0\n",
      "Term                               0\n",
      "Current Loan Amount                0\n",
      "Current Credit Balance             0\n",
      "Monthly Debt                       0\n",
      "Credit Score                    1557\n",
      "Credit Default                     0\n",
      "dtype: int64\n"
     ]
    }
   ],
   "source": [
    "def print_na(df):\n",
    "    print(len(df) - df.count())\n",
    "    \n",
    "print_na(data_train)"
   ]
  },
  {
   "cell_type": "code",
   "execution_count": 9,
   "metadata": {},
   "outputs": [],
   "source": [
    "def diff(first, second):\n",
    "    second = set(second)\n",
    "    return [item for item in first if item not in second]"
   ]
  },
  {
   "cell_type": "code",
   "execution_count": 10,
   "metadata": {},
   "outputs": [],
   "source": [
    "def fill_annual_income(df):\n",
    "    df[ann_income] = df[ann_income].fillna(df[ann_income].mean())\n",
    "    return df"
   ]
  },
  {
   "cell_type": "code",
   "execution_count": 11,
   "metadata": {},
   "outputs": [],
   "source": [
    "def fill_years_cur_job(df):\n",
    "    df[years_on_job] = df[years_on_job].fillna(df[years_on_job].mode()[0])\n",
    "    return df"
   ]
  },
  {
   "cell_type": "code",
   "execution_count": 12,
   "metadata": {},
   "outputs": [],
   "source": [
    "def fill_months_last_del(df):\n",
    "    df[months_last_delinq] = df[months_last_delinq].fillna(df[months_last_delinq].mean())\n",
    "    return df"
   ]
  },
  {
   "cell_type": "code",
   "execution_count": 13,
   "metadata": {},
   "outputs": [],
   "source": [
    "def fill_bankruptcies(df):\n",
    "    df[bancrupcies] = df[bancrupcies].fillna(df[bancrupcies].mean())\n",
    "    return df"
   ]
  },
  {
   "cell_type": "code",
   "execution_count": 14,
   "metadata": {},
   "outputs": [],
   "source": [
    "def fill_credit_score(df):\n",
    "    df[cred_score] = df[cred_score].fillna(df[cred_score].mean())\n",
    "    return df"
   ]
  },
  {
   "cell_type": "code",
   "execution_count": 15,
   "metadata": {},
   "outputs": [],
   "source": [
    "def fill_na(df):\n",
    "    df = fill_annual_income(df)\n",
    "    df = fill_years_cur_job(df)\n",
    "    df = fill_months_last_del(df)\n",
    "    df = fill_bankruptcies(df)\n",
    "    df = fill_credit_score(df)\n",
    "    return df"
   ]
  },
  {
   "cell_type": "markdown",
   "metadata": {},
   "source": [
    "**Построение новых признаков**"
   ]
  },
  {
   "cell_type": "code",
   "execution_count": 16,
   "metadata": {},
   "outputs": [],
   "source": [
    "def set_id(df):\n",
    "    df['Id'] = pd.Series(df.index.tolist(), dtype=str)\n",
    "    return df"
   ]
  },
  {
   "cell_type": "code",
   "execution_count": 17,
   "metadata": {},
   "outputs": [],
   "source": [
    "def cross_numeric(df):\n",
    "    cols = diff(df.columns.to_list(), [cred_default])\n",
    "#     c2 = cred_score\n",
    "    for c1 in cols:\n",
    "        for c2 in cols:\n",
    "            if np.issubdtype(df[c1].dtype, np.number) and np.issubdtype(df[c2].dtype, np.number):\n",
    "                df[f'{c1}_{c2}'] = df[c1] * df[c2]\n",
    "    return df"
   ]
  },
  {
   "cell_type": "code",
   "execution_count": 18,
   "metadata": {},
   "outputs": [],
   "source": [
    "def sqr_numeric(df):\n",
    "    cols = diff(df.columns.to_list(), [cred_default])\n",
    "    for c in cols:\n",
    "        if np.issubdtype(df[c].dtype, np.number):\n",
    "            df[f'sqr_{c}'] = df[c] * df[c]\n",
    "#             df[f'third_{c}'] = df[c] * df[c] * df[c]\n",
    "            df[f'sqrt_{c}'] = df[c]**0.5\n",
    "    return df"
   ]
  },
  {
   "cell_type": "markdown",
   "metadata": {},
   "source": [
    "**Dummies**"
   ]
  },
  {
   "cell_type": "code",
   "execution_count": 19,
   "metadata": {},
   "outputs": [],
   "source": [
    "def dummies(df):\n",
    "    df['Term_bin'] = df[term].map({'Long Term':'1', 'Short Term':'0'}).astype(int)\n",
    "    for cat_colname in df.select_dtypes(include='object').columns[1:]:\n",
    "        df = pd.concat([df, pd.get_dummies(df[cat_colname], prefix=cat_colname)], axis=1)\n",
    "    return df"
   ]
  },
  {
   "cell_type": "code",
   "execution_count": 20,
   "metadata": {},
   "outputs": [],
   "source": [
    "def rename(df):\n",
    "    for cat_colname in df.columns:\n",
    "        new_col_name = cat_colname \\\n",
    "            .replace('+', 'more') \\\n",
    "            .replace('>', 'more') \\\n",
    "            .replace('<', 'less')\n",
    "        if cat_colname != new_col_name:\n",
    "            df.rename(columns={cat_colname: new_col_name}, inplace=True)\n",
    "    return df"
   ]
  },
  {
   "cell_type": "code",
   "execution_count": 21,
   "metadata": {},
   "outputs": [],
   "source": [
    "def prepare_data(df):\n",
    "    df = df.copy()\n",
    "    df = fill_na(df)\n",
    "#     df = cross_numeric(df)\n",
    "    df = sqr_numeric(df)\n",
    "    df = dummies(df)\n",
    "    df = set_id(df)\n",
    "    df = rename(df)\n",
    "    return df"
   ]
  },
  {
   "cell_type": "code",
   "execution_count": 22,
   "metadata": {
    "scrolled": false
   },
   "outputs": [],
   "source": [
    "train_prepared = prepare_data(data_train)"
   ]
  },
  {
   "cell_type": "code",
   "execution_count": 23,
   "metadata": {},
   "outputs": [],
   "source": [
    "save_prepared_data(train_prepared, 'train')"
   ]
  },
  {
   "cell_type": "code",
   "execution_count": 24,
   "metadata": {},
   "outputs": [
    {
     "name": "stdout",
     "output_type": "stream",
     "text": [
      "<class 'pandas.core.frame.DataFrame'>\n",
      "RangeIndex: 7500 entries, 0 to 7499\n",
      "Data columns (total 71 columns):\n",
      "Home Ownership                       7500 non-null object\n",
      "Annual Income                        7500 non-null float64\n",
      "Years in current job                 7500 non-null object\n",
      "Tax Liens                            7500 non-null float64\n",
      "Number of Open Accounts              7500 non-null float64\n",
      "Years of Credit History              7500 non-null float64\n",
      "Maximum Open Credit                  7500 non-null float64\n",
      "Number of Credit Problems            7500 non-null float64\n",
      "Months since last delinquent         7500 non-null float64\n",
      "Bankruptcies                         7500 non-null float64\n",
      "Purpose                              7500 non-null object\n",
      "Term                                 7500 non-null object\n",
      "Current Loan Amount                  7500 non-null float64\n",
      "Current Credit Balance               7500 non-null float64\n",
      "Monthly Debt                         7500 non-null float64\n",
      "Credit Score                         7500 non-null float64\n",
      "Credit Default                       7500 non-null int64\n",
      "sqr_Annual Income                    7500 non-null float64\n",
      "sqrt_Annual Income                   7500 non-null float64\n",
      "sqr_Tax Liens                        7500 non-null float64\n",
      "sqrt_Tax Liens                       7500 non-null float64\n",
      "sqr_Number of Open Accounts          7500 non-null float64\n",
      "sqrt_Number of Open Accounts         7500 non-null float64\n",
      "sqr_Years of Credit History          7500 non-null float64\n",
      "sqrt_Years of Credit History         7500 non-null float64\n",
      "sqr_Maximum Open Credit              7500 non-null float64\n",
      "sqrt_Maximum Open Credit             7500 non-null float64\n",
      "sqr_Number of Credit Problems        7500 non-null float64\n",
      "sqrt_Number of Credit Problems       7500 non-null float64\n",
      "sqr_Months since last delinquent     7500 non-null float64\n",
      "sqrt_Months since last delinquent    7500 non-null float64\n",
      "sqr_Bankruptcies                     7500 non-null float64\n",
      "sqrt_Bankruptcies                    7500 non-null float64\n",
      "sqr_Current Loan Amount              7500 non-null float64\n",
      "sqrt_Current Loan Amount             7500 non-null float64\n",
      "sqr_Current Credit Balance           7500 non-null float64\n",
      "sqrt_Current Credit Balance          7500 non-null float64\n",
      "sqr_Monthly Debt                     7500 non-null float64\n",
      "sqrt_Monthly Debt                    7500 non-null float64\n",
      "sqr_Credit Score                     7500 non-null float64\n",
      "sqrt_Credit Score                    7500 non-null float64\n",
      "Term_bin                             7500 non-null int64\n",
      "Years in current job_1 year          7500 non-null uint8\n",
      "Years in current job_10more years    7500 non-null uint8\n",
      "Years in current job_2 years         7500 non-null uint8\n",
      "Years in current job_3 years         7500 non-null uint8\n",
      "Years in current job_4 years         7500 non-null uint8\n",
      "Years in current job_5 years         7500 non-null uint8\n",
      "Years in current job_6 years         7500 non-null uint8\n",
      "Years in current job_7 years         7500 non-null uint8\n",
      "Years in current job_8 years         7500 non-null uint8\n",
      "Years in current job_9 years         7500 non-null uint8\n",
      "Years in current job_less 1 year     7500 non-null uint8\n",
      "Purpose_business loan                7500 non-null uint8\n",
      "Purpose_buy a car                    7500 non-null uint8\n",
      "Purpose_buy house                    7500 non-null uint8\n",
      "Purpose_debt consolidation           7500 non-null uint8\n",
      "Purpose_educational expenses         7500 non-null uint8\n",
      "Purpose_home improvements            7500 non-null uint8\n",
      "Purpose_major purchase               7500 non-null uint8\n",
      "Purpose_medical bills                7500 non-null uint8\n",
      "Purpose_moving                       7500 non-null uint8\n",
      "Purpose_other                        7500 non-null uint8\n",
      "Purpose_renewable energy             7500 non-null uint8\n",
      "Purpose_small business               7500 non-null uint8\n",
      "Purpose_take a trip                  7500 non-null uint8\n",
      "Purpose_vacation                     7500 non-null uint8\n",
      "Purpose_wedding                      7500 non-null uint8\n",
      "Term_Long Term                       7500 non-null uint8\n",
      "Term_Short Term                      7500 non-null uint8\n",
      "Id                                   7500 non-null object\n",
      "dtypes: float64(36), int64(2), object(5), uint8(28)\n",
      "memory usage: 2.7+ MB\n"
     ]
    }
   ],
   "source": [
    "train_prepared.info()"
   ]
  },
  {
   "cell_type": "markdown",
   "metadata": {},
   "source": [
    "### Работа с моделью"
   ]
  },
  {
   "cell_type": "code",
   "execution_count": 25,
   "metadata": {},
   "outputs": [],
   "source": [
    "def get_classification_report(y_train_true, y_train_pred, y_test_true, y_test_pred):\n",
    "    print('TRAIN\\n\\n' + classification_report(y_train_true, y_train_pred))\n",
    "    print('TEST\\n\\n' + classification_report(y_test_true, y_test_pred))\n",
    "    print('CONFUSION MATRIX\\n')\n",
    "    print(pd.crosstab(y_test_true, y_test_pred))"
   ]
  },
  {
   "cell_type": "code",
   "execution_count": 26,
   "metadata": {},
   "outputs": [],
   "source": [
    "def balance_df_by_target(df, target_name):\n",
    "\n",
    "    target_counts = df[target_name].value_counts()\n",
    "\n",
    "    major_class_name = target_counts.argmax()\n",
    "    minor_class_name = target_counts.argmin()\n",
    "\n",
    "    disbalance_coeff = int(target_counts[major_class_name] / target_counts[minor_class_name]) - 1\n",
    "\n",
    "    for i in range(disbalance_coeff):\n",
    "        sample = df[df[target_name] == minor_class_name].sample(target_counts[minor_class_name])\n",
    "        df = df.append(sample, ignore_index=True)\n",
    "\n",
    "    return df.sample(frac=1) "
   ]
  },
  {
   "cell_type": "markdown",
   "metadata": {},
   "source": [
    "**Отбор признаков**"
   ]
  },
  {
   "cell_type": "code",
   "execution_count": 27,
   "metadata": {},
   "outputs": [],
   "source": [
    "TARGET_NAME = cred_default\n",
    "BASE_FEATURE_NAMES = data_train.columns.drop(TARGET_NAME).tolist()\n",
    "NEW_FEATURE_NAMES = train_prepared.columns.drop([TARGET_NAME, 'Id'] + BASE_FEATURE_NAMES).tolist()"
   ]
  },
  {
   "cell_type": "code",
   "execution_count": 28,
   "metadata": {},
   "outputs": [],
   "source": [
    "# NUMERIC_FEATURE_NAMES = [ann_income, tax_liens, numb_accounts, years_cred_hist, max_credit, cred_problems, months_last_delinq, bancrupcies, cur_loan_amount, cur_cred_bal, month_debt, cred_score]\n",
    "numerics = ['int64', 'float64', 'uint8']\n",
    "newdf = train_prepared.select_dtypes(include=numerics)\n",
    "NUMERIC_FEATURE_NAMES = newdf.columns.drop([TARGET_NAME]).to_list()"
   ]
  },
  {
   "cell_type": "code",
   "execution_count": 29,
   "metadata": {},
   "outputs": [],
   "source": [
    "feats_top = [cred_score, cur_loan_amount, ann_income,  max_credit, 'Term_bin', month_debt]\n",
    "FEATURE_NAMES_SELECTED = list(set(NUMERIC_FEATURE_NAMES + NEW_FEATURE_NAMES))\n",
    "# FEATURE_NAMES_SELECTED = feats_top"
   ]
  },
  {
   "cell_type": "markdown",
   "metadata": {},
   "source": [
    "**Нормализация данных**"
   ]
  },
  {
   "cell_type": "code",
   "execution_count": 30,
   "metadata": {},
   "outputs": [],
   "source": [
    "def normalize(df):\n",
    "    scaler = StandardScaler()\n",
    "\n",
    "    df_norm = df.copy()\n",
    "    df_norm[NUMERIC_FEATURE_NAMES] = scaler.fit_transform(df_norm[NUMERIC_FEATURE_NAMES])\n",
    "\n",
    "    return df_norm.copy()"
   ]
  },
  {
   "cell_type": "code",
   "execution_count": 31,
   "metadata": {},
   "outputs": [],
   "source": [
    "train_prepared = normalize(train_prepared)"
   ]
  },
  {
   "cell_type": "markdown",
   "metadata": {},
   "source": [
    "**Разбиение test и train**"
   ]
  },
  {
   "cell_type": "code",
   "execution_count": 32,
   "metadata": {},
   "outputs": [],
   "source": [
    "def split(df):\n",
    "    X = df[FEATURE_NAMES_SELECTED]\n",
    "    y = df[TARGET_NAME]\n",
    "\n",
    "    return train_test_split(X, y, shuffle=True, test_size=0.25, random_state=211)"
   ]
  },
  {
   "cell_type": "code",
   "execution_count": 33,
   "metadata": {},
   "outputs": [],
   "source": [
    "X_train, X_test, y_train, y_test = split(train_prepared)"
   ]
  },
  {
   "cell_type": "markdown",
   "metadata": {},
   "source": [
    "**Построение и оценка модели**"
   ]
  },
  {
   "cell_type": "markdown",
   "metadata": {},
   "source": [
    "### CatBoost"
   ]
  },
  {
   "cell_type": "markdown",
   "metadata": {},
   "source": [
    "**Подбор гиперпараметров**"
   ]
  },
  {
   "cell_type": "code",
   "execution_count": 34,
   "metadata": {},
   "outputs": [],
   "source": [
    "def best_params():\n",
    "    model_catb = catb.CatBoostClassifier(silent=True, random_state=21, class_weights=[1, 2.5])\n",
    "    params = {'n_estimators':[50, 100, 200, 500], \n",
    "          'max_depth':[3, 5, 7, 10],\n",
    "          'learning_rate':[0.001, 0.01, 0.05, 0.1]}\n",
    "    cv=KFold(n_splits=3, random_state=21, shuffle=True)\n",
    "    rs = RandomizedSearchCV(model_catb, params, scoring='f1', cv=cv, n_jobs=-1)\n",
    "    rs.fit(X_train, y_train)\n",
    "    \n",
    "    print(rs.best_score_)\n",
    "    return rs.best_params_"
   ]
  },
  {
   "cell_type": "code",
   "execution_count": 35,
   "metadata": {
    "scrolled": true
   },
   "outputs": [],
   "source": [
    "# %%time\n",
    "\n",
    "# best_params_ = best_params()\n",
    "# best_params_ = {'n_estimators': 200, 'max_depth': 3, 'learning_rate': 0.05} # 0.51 0.64 0.57\n",
    "best_params_ = {'n_estimators': 200, 'max_depth': 7, 'learning_rate': 0.01} # 0.53 0.57 0.55\n",
    "# best_params_ = {'n_estimators': 50, 'max_depth': 7, 'learning_rate': 0.05} # 0.52 0.59 0.55"
   ]
  },
  {
   "cell_type": "code",
   "execution_count": 36,
   "metadata": {},
   "outputs": [
    {
     "data": {
      "text/plain": [
       "{'n_estimators': 200, 'max_depth': 7, 'learning_rate': 0.01}"
      ]
     },
     "execution_count": 36,
     "metadata": {},
     "output_type": "execute_result"
    }
   ],
   "source": [
    "best_params_"
   ]
  },
  {
   "cell_type": "code",
   "execution_count": 37,
   "metadata": {},
   "outputs": [],
   "source": [
    "def show_proba_calibration_plots(y_predicted_probs, y_true_labels):\n",
    "    preds_with_true_labels = np.array(list(zip(y_predicted_probs, y_true_labels)))\n",
    "\n",
    "    thresholds = []\n",
    "    precisions = []\n",
    "    recalls = []\n",
    "    f1_scores = []\n",
    "\n",
    "    for threshold in np.linspace(0.1, 0.9, 9):\n",
    "        thresholds.append(threshold)\n",
    "        precisions.append(precision_score(y_true_labels, list(map(int, y_predicted_probs > threshold))))\n",
    "        recalls.append(recall_score(y_true_labels, list(map(int, y_predicted_probs > threshold))))\n",
    "        f1_scores.append(f1_score(y_true_labels, list(map(int, y_predicted_probs > threshold))))\n",
    "\n",
    "    scores_table = pd.DataFrame({'f1':f1_scores,\n",
    "                                 'precision':precisions,\n",
    "                                 'recall':recalls,\n",
    "                                 'probability':thresholds}).sort_values('f1', ascending=False).round(3)\n",
    "  \n",
    "    figure = plt.figure(figsize = (15, 5))\n",
    "\n",
    "    plt1 = figure.add_subplot(121)\n",
    "    plt1.plot(thresholds, precisions, label='Precision', linewidth=4)\n",
    "    plt1.plot(thresholds, recalls, label='Recall', linewidth=4)\n",
    "    plt1.plot(thresholds, f1_scores, label='F1', linewidth=4)\n",
    "    plt1.set_ylabel('Scores')\n",
    "    plt1.set_xlabel('Probability threshold')\n",
    "    plt1.set_title('Probabilities threshold calibration')\n",
    "    plt1.legend(bbox_to_anchor=(0.25, 0.25))   \n",
    "    plt1.table(cellText = scores_table.values,\n",
    "               colLabels = scores_table.columns, \n",
    "               colLoc = 'center', cellLoc = 'center', loc = 'bottom', bbox = [0, -1.3, 1, 1])\n",
    "\n",
    "    plt2 = figure.add_subplot(122)\n",
    "    plt2.hist(preds_with_true_labels[preds_with_true_labels[:, 1] == 0][:, 0], \n",
    "              label='Another class', color='royalblue', alpha=1)\n",
    "    plt2.hist(preds_with_true_labels[preds_with_true_labels[:, 1] == 1][:, 0], \n",
    "              label='Main class', color='darkcyan', alpha=0.8)\n",
    "    plt2.set_ylabel('Number of examples')\n",
    "    plt2.set_xlabel('Probabilities')\n",
    "    plt2.set_title('Probability histogram')\n",
    "    plt2.legend(bbox_to_anchor=(1, 1))\n",
    "\n",
    "    plt.show()"
   ]
  },
  {
   "cell_type": "code",
   "execution_count": 38,
   "metadata": {
    "scrolled": false
   },
   "outputs": [
    {
     "name": "stdout",
     "output_type": "stream",
     "text": [
      "TRAIN\n",
      "\n",
      "              precision    recall  f1-score   support\n",
      "\n",
      "           0       0.85      0.82      0.83      4047\n",
      "           1       0.57      0.62      0.60      1578\n",
      "\n",
      "    accuracy                           0.76      5625\n",
      "   macro avg       0.71      0.72      0.71      5625\n",
      "weighted avg       0.77      0.76      0.77      5625\n",
      "\n",
      "TEST\n",
      "\n",
      "              precision    recall  f1-score   support\n",
      "\n",
      "           0       0.83      0.79      0.81      1340\n",
      "           1       0.53      0.59      0.56       535\n",
      "\n",
      "    accuracy                           0.73      1875\n",
      "   macro avg       0.68      0.69      0.68      1875\n",
      "weighted avg       0.74      0.73      0.74      1875\n",
      "\n",
      "CONFUSION MATRIX\n",
      "\n",
      "col_0            0.0  1.0\n",
      "Credit Default           \n",
      "0               1059  281\n",
      "1                219  316\n"
     ]
    }
   ],
   "source": [
    "model_catb_final = catb.CatBoostClassifier(class_weights=[1, 2.5], silent=True, random_state=21, **best_params_)\n",
    "model_catb_final.fit(X_train, y_train)\n",
    "\n",
    "y_train_pred = model_catb_final.predict(X_train)\n",
    "y_test_pred = model_catb_final.predict(X_test)\n",
    "\n",
    "get_classification_report(y_train, y_train_pred, y_test, y_test_pred)"
   ]
  },
  {
   "cell_type": "code",
   "execution_count": 39,
   "metadata": {
    "scrolled": false
   },
   "outputs": [
    {
     "data": {
      "image/png": "[encoded data removed]",
      "text/plain": [
       "<Figure size 1080x360 with 2 Axes>"
      ]
     },
     "metadata": {
      "needs_background": "light"
     },
     "output_type": "display_data"
    }
   ],
   "source": [
    "y_test_pred_probs = model_catb_final.predict_proba(X_test)\n",
    "show_proba_calibration_plots(y_test_pred_probs[:, 1], y_test)"
   ]
  },
  {
   "cell_type": "code",
   "execution_count": 40,
   "metadata": {
    "scrolled": false
   },
   "outputs": [
    {
     "data": {
      "text/html": [
       "<div>\n",
       "<style scoped>\n",
       "    .dataframe tbody tr th:only-of-type {\n",
       "        vertical-align: middle;\n",
       "    }\n",
       "\n",
       "    .dataframe tbody tr th {\n",
       "        vertical-align: top;\n",
       "    }\n",
       "\n",
       "    .dataframe thead th {\n",
       "        text-align: right;\n",
       "    }\n",
       "</style>\n",
       "<table border=\"1\" class=\"dataframe\">\n",
       "  <thead>\n",
       "    <tr style=\"text-align: right;\">\n",
       "      <th></th>\n",
       "      <th>feat</th>\n",
       "      <th>importance</th>\n",
       "    </tr>\n",
       "  </thead>\n",
       "  <tbody>\n",
       "    <tr>\n",
       "      <td>9</td>\n",
       "      <td>Credit Score</td>\n",
       "      <td>19.142932</td>\n",
       "    </tr>\n",
       "    <tr>\n",
       "      <td>24</td>\n",
       "      <td>sqr_Credit Score</td>\n",
       "      <td>15.666779</td>\n",
       "    </tr>\n",
       "    <tr>\n",
       "      <td>44</td>\n",
       "      <td>sqrt_Credit Score</td>\n",
       "      <td>14.557354</td>\n",
       "    </tr>\n",
       "    <tr>\n",
       "      <td>43</td>\n",
       "      <td>sqrt_Current Loan Amount</td>\n",
       "      <td>11.278607</td>\n",
       "    </tr>\n",
       "    <tr>\n",
       "      <td>40</td>\n",
       "      <td>Current Loan Amount</td>\n",
       "      <td>8.493124</td>\n",
       "    </tr>\n",
       "    <tr>\n",
       "      <td>34</td>\n",
       "      <td>sqr_Current Loan Amount</td>\n",
       "      <td>8.241510</td>\n",
       "    </tr>\n",
       "    <tr>\n",
       "      <td>1</td>\n",
       "      <td>sqr_Annual Income</td>\n",
       "      <td>3.148843</td>\n",
       "    </tr>\n",
       "    <tr>\n",
       "      <td>54</td>\n",
       "      <td>sqrt_Annual Income</td>\n",
       "      <td>3.102637</td>\n",
       "    </tr>\n",
       "    <tr>\n",
       "      <td>49</td>\n",
       "      <td>Term_Short Term</td>\n",
       "      <td>1.986270</td>\n",
       "    </tr>\n",
       "    <tr>\n",
       "      <td>33</td>\n",
       "      <td>Annual Income</td>\n",
       "      <td>1.616729</td>\n",
       "    </tr>\n",
       "  </tbody>\n",
       "</table>\n",
       "</div>"
      ],
      "text/plain": [
       "                        feat  importance\n",
       "9               Credit Score   19.142932\n",
       "24          sqr_Credit Score   15.666779\n",
       "44         sqrt_Credit Score   14.557354\n",
       "43  sqrt_Current Loan Amount   11.278607\n",
       "40       Current Loan Amount    8.493124\n",
       "34   sqr_Current Loan Amount    8.241510\n",
       "1          sqr_Annual Income    3.148843\n",
       "54        sqrt_Annual Income    3.102637\n",
       "49           Term_Short Term    1.986270\n",
       "33             Annual Income    1.616729"
      ]
     },
     "execution_count": 40,
     "metadata": {},
     "output_type": "execute_result"
    }
   ],
   "source": [
    "feat_imp = pd.DataFrame({'feat': model_catb_final.feature_names_, 'importance': model_catb_final.get_feature_importance()})\n",
    "feat_imp.sort_values('importance', ascending=False).head(10)"
   ]
  },
  {
   "cell_type": "code",
   "execution_count": 41,
   "metadata": {
    "scrolled": false
   },
   "outputs": [],
   "source": [
    "test_prepared = prepare_data(data_test)\n",
    "for col in diff(train_prepared.columns, test_prepared.columns):\n",
    "    if col != TARGET_NAME:\n",
    "        test_prepared[col] = train_prepared[col].mode()[0]\n",
    "test_prepared = normalize(test_prepared)"
   ]
  },
  {
   "cell_type": "code",
   "execution_count": 42,
   "metadata": {},
   "outputs": [],
   "source": [
    "predicted = model_catb_final.predict(test_prepared[FEATURE_NAMES_SELECTED])"
   ]
  },
  {
   "cell_type": "code",
   "execution_count": 43,
   "metadata": {},
   "outputs": [],
   "source": [
    "pred_df = pd.DataFrame({cred_default: pd.Series(predicted, dtype='int64')})"
   ]
  },
  {
   "cell_type": "code",
   "execution_count": 44,
   "metadata": {},
   "outputs": [],
   "source": [
    "pred_df.to_csv('./data/YZinovev_predictions.csv', index=False)"
   ]
  }
 ],
 "metadata": {
  "kernelspec": {
   "display_name": "Python 3",
   "language": "python",
   "name": "python3"
  },
  "language_info": {
   "codemirror_mode": {
    "name": "ipython",
    "version": 3
   },
   "file_extension": ".py",
   "mimetype": "text/x-python",
   "name": "python",
   "nbconvert_exporter": "python",
   "pygments_lexer": "ipython3",
   "version": "3.6.8"
  }
 },
 "nbformat": 4,
 "nbformat_minor": 2
}
